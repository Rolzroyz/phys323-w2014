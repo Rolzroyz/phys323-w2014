{
 "metadata": {
  "name": "homework-7.ipynb"
 },
 "nbformat": 3,
 "nbformat_minor": 0,
 "worksheets": [
  {
   "cells": [
    {
     "cell_type": "markdown",
     "metadata": {},
     "source": [
      "Optics Hw #7 (Fresnel Equations)\n",
      "===\n",
      "Question #5\n",
      "---\n",
      "Royce Cribbs\n"
     ]
    },
    {
     "cell_type": "markdown",
     "metadata": {},
     "source": [
      "In your [book](http://www.amazon.com/Introduction-Optics-Edition-Frank-Pedrotti/dp/0131499335), 23-13.  \n",
      "Calculate the percent reflectance and transmittance for both (a) TE and (b) TM modes of light incident at 50<sup>o</sup> on a glass surface of index 1.60."
     ]
    },
    {
     "cell_type": "markdown",
     "metadata": {},
     "source": [
      "Solution\n",
      "---\n",
      "__Definitions:__  \n",
      "Given the following polarization and conditions:  \n",
      "TE - Transverse Electric, horizontally polarized light  \n",
      "TM - Transverse Magnetic, vertically polarized light  \n",
      "n - Refractive index of glass  \n",
      "$\\theta$ - incident angle of polarized light beam  \n",
      "$\\theta_t$ - angle of transmitted polarized light beam  \n",
      "\n",
      "Use the Fresnel equations to compute:  \n",
      "r - reflection coefficient, ratio of reflected electric field amplitude ($E_r$) over incident amplitude ($E$)  \n",
      "t - transmission coefficient, ratio of transmitted electric field amplitude ($E_t$) over incident amplitude ($E$)  \n",
      "\n",
      "Then use the relation to find the observables:  \n",
      "R - Reflectance, observable intensity of the reflected light  \n",
      "T - Transmittance, observable intensity of the transmitted light\n",
      "\n",
      "As a 0<sup>th</sup> step we will find the angle of the transmitted electric field $ \\theta_t$ using Snells Law:\n",
      "\n",
      "(0) $\\theta_t = \\sin^{-1}\\frac{\\sin \\theta}{n} = 28.6^o$"
     ]
    },
    {
     "cell_type": "markdown",
     "metadata": {},
     "source": [
      "__Part (A)\n",
      "\n",
      "Using the equations from the book we get: \n",
      "\n",
      "(1) $ r_{TE} = \\frac{\\cos{\\theta}-\\sqrt{n^2-\\sin^2\\theta}}{\\cos{\\theta}+\\sqrt{n^2-\\sin^2 \\theta}} = \\frac{\\cos{50^o}-\\sqrt{1.6^2-\\sin^250^o}}{\\cos{50^o}+\\sqrt{1.6^2-\\sin^250^o}} = -0.372$\n",
      "\n",
      "(2) $ t_{TE} = \\frac{2 \\cos \\theta}{\\cos{\\theta}+\\sqrt{n^2-\\sin^2 \\theta}} = \\frac{2 \\cos 50^o}{\\cos{50^o}+\\sqrt{1.6^2-\\sin^250^o}} = 0.628$\n",
      "\n",
      "We can check using the following relationship (careful, the relation for TM is different): \n",
      "\n",
      "(2C) $t_{TE} = r_{TE} + 1  = (-0.372) + 1 = .628 \\checkmark$\n",
      "\n",
      "Using the relation between the coeffecients and observables: \n",
      "\n",
      "(3) $R_{TE} = r^2 = (-0.372)^2 = 13.8\\%$ \n",
      "\n",
      "(4) $T_{TE} = n\\bigg( \\frac{\\cos \\theta_t}{\\cos \\theta}\\bigg)(t_{TE})^2 = 1.6\\bigg( \\frac{\\cos 28.6^o}{\\cos 50^o}\\bigg)(0.628)^2 = 86.2\\%$\n",
      "\n",
      "As a check make sure the Reflectance and Transmittance add up to one: \n",
      "\n",
      "(4C) $R_{TE}+T_{TE} = 13.8\\% + 86.2\\% = 100\\% = 1 \\checkmark$"
     ]
    },
    {
     "cell_type": "markdown",
     "metadata": {},
     "source": [
      "__Part (B)__\n",
      "\n",
      "Same process with slight variations:\n",
      "\n",
      "(1) $ r_{TM} = \\frac{-n^2\\cos{\\theta} + \\sqrt{n^2-\\sin^2\\theta}}{n^2\\cos{\\theta} + \\sqrt{n^2-\\sin^2\\theta}} = \\frac{- 1.6^2 \\cos{50^o} + \\sqrt{1.6^2-\\sin^250^o}}{1.6^2 \\cos 50^0 + \\sqrt{1.6^2-\\sin^250^o}} = -0.0790$\n",
      "\n",
      "(2) $ t_{TM} = \\frac{2n \\cos \\theta}{\\cos{\\theta}+\\sqrt{n^2-\\sin^2 \\theta}} = \\frac{2 (1.6) \\cos 50^o}{\\cos{50^o}+\\sqrt{1.6^2-\\sin^250^o}} = 0.674$\n",
      "\n",
      "Note that the TM coefficients are related by n:\n",
      "\n",
      "(2C) $t_{TM} = \\frac{1-r_{TM}}{n} = \\frac{1-(-0.0790)}{1.6} = .674 \\checkmark$\n",
      "\n",
      "The relation between the coefficients and the observable remains the same:\n",
      "\n",
      "(3) $R_{TM} = r^2 = (-0.0790)^2 = 0.8\\%$\n",
      "\n",
      "(4) $T_{TM} = n\\bigg( \\frac{\\cos \\theta_t}{\\cos \\theta}\\bigg)(t_{TM})^2 = 1.6\\bigg( \\frac{\\cos 28.6^o}{\\cos 50^o}\\bigg)(.674)^2 = 99.2\\% $\n",
      "\n",
      "Again, make sure that we're getting out all the light we put in:\n",
      "\n",
      "(4C) $R_{TM}+T_{TM} = 0.8\\% + 99.2\\% = 100\\% = 1 \\checkmark$"
     ]
    },
    {
     "cell_type": "markdown",
     "metadata": {},
     "source": [
      "__Summery of Results__  \n",
      "(A) $ R_{TE} = 13.8\\% , T_{TE} = 86.2\\%$  \n",
      "(B) $ R_{TM} = 99.2\\% , T_{TM} = 0.8\\%$ "
     ]
    }
   ],
   "metadata": {}
  }
 ]
}