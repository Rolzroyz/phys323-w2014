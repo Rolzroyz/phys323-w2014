{
 "metadata": {
  "name": "homework-9.ipynb"
 },
 "nbformat": 3,
 "nbformat_minor": 0,
 "worksheets": [
  {
   "cells": [
    {
     "cell_type": "markdown",
     "metadata": {},
     "source": [
      "Optics Hw #9 (Last One!!!)\n",
      "===\n",
      "Question #3\n",
      "---\n",
      "Royce Cribbs\n"
     ]
    },
    {
     "cell_type": "markdown",
     "metadata": {},
     "source": [
      "The Transmision of light through a parallel sheet of glass is  \n",
      "$ T = \\frac{(1-r^2)^2}{1+r^4-2r^2(1-2\\sin^2 \\delta/2)}$  \n",
      "Where $ r$ is the reflection coeffecient. Show that $ T$ can be rewritten as  \n",
      "$ T = \\frac{1}{1+F\\sin^2 \\delta/2}$  \n",
      "where $ F = \\frac{4r^2}{(1-r^2)^2}$ Here $ F$ is called the \"coeffiecent of ___Finesse___.\"  "
     ]
    },
    {
     "cell_type": "markdown",
     "metadata": {},
     "source": [
      "Solution\n",
      "---\n",
      "__Start:__  \n",
      "$$ T = \\frac{(1-r^2)^2}{1+r^4-2r^2(1-2\\sin^2 \\delta/2)}$$\n",
      "\n",
      "I prefer working with numerators so we are flipping this equation:  \n",
      "$$ \\frac{1}{T} = \\frac{1+r^4-2r^2(1-2\\sin^2 \\delta/2)}{(1-r^2)^2}$$\n",
      "\n",
      "Multiply out the numerator:  \n",
      "$$ \\frac{1}{T} = \\frac{1+r^4-2r^2 + 4r^2\\sin^2 \\delta/2)}{(1-r^2)^2}$$\n",
      "\n",
      "Move the sin term over by itself and reorder the polynomial in a suggestive manner:  \n",
      "$$ \\frac{1}{T} = \\frac{1-2r^2+r^4}{(1-r^2)^2}+\\frac{4r^2\\sin^2 \\delta/2}{(1-r^2)^2}$$\n",
      "\n",
      "For the fraction on the left we can either factor the numerator or expand the denominator so let's expand:  \n",
      "$$ \\frac{1}{T} = \\frac{1-2r^2+r^4}{1-2r^2+r^4}+\\frac{4r^2}{(1-r^2)^2}\\sin^2 \\delta/2$$\n",
      "\n",
      "Canceling out terms and adding some Finesse we get that:\n",
      "$$ \\frac{1}{T} = 1+F\\sin^2 \\delta/2$$\n",
      "\n",
      "Flipping the equation back over to get $ T$:  \n",
      "$$ T = \\frac{1}{1+F\\sin^2 \\delta/2}\\checkmark$$\n",
      "__End__"
     ]
    }
   ],
   "metadata": {}
  }
 ]
}